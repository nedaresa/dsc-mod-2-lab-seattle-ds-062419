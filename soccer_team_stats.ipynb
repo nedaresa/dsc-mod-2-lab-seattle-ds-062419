{
 "cells": [
  {
   "cell_type": "markdown",
   "metadata": {},
   "source": [
    "# Soccer Team Match Statistics"
   ]
  },
  {
   "cell_type": "markdown",
   "metadata": {},
   "source": [
    "Neda Jabbari, Erica Ho  \n",
    "Date: 07/25/2019 \n",
    "\n",
    "We try to explore the questions below:\n",
    "\n",
    "- The name of the team\n",
    "- The total number of goals scored by the team during the 2011 season\n",
    "- A histogram visualization of the team's wins and losses for the 2011 season (store the visualization directly)\n",
    "- The total number of wins the team earned during the 2011 season\n",
    "- The team's win percentage on days where it was raining during games in the 2011 season.\n",
    "\n",
    "The dataset is attempted from https://www.kaggle.com/laudanum/footballdelphi. We reterive the information from the FlatView_Advanced table."
   ]
  },
  {
   "cell_type": "code",
   "execution_count": null,
   "metadata": {},
   "outputs": [],
   "source": [
    "import sqlite3\n",
    "import pandas as pd\n",
    "import matplotlib.pyplot as plt\n",
    "%matplotlib inline\n",
    "#!pip install pandasql\n",
    "from pandasql import sqldf\n",
    "pysqldf = lambda q: sqldf(q, globals())\n",
    "import requests"
   ]
  },
  {
   "cell_type": "markdown",
   "metadata": {},
   "source": [
    "### Collect Data"
   ]
  },
  {
   "cell_type": "markdown",
   "metadata": {},
   "source": [
    "To reterive the German teams."
   ]
  },
  {
   "cell_type": "code",
   "execution_count": null,
   "metadata": {},
   "outputs": [],
   "source": [
    "conn = sqlite3.connect('database.sqlite')\n",
    "c = conn.cursor()"
   ]
  },
  {
   "cell_type": "code",
   "execution_count": null,
   "metadata": {
    "scrolled": true
   },
   "outputs": [],
   "source": [
    "c.execute(\"\"\"select * from Matches;\"\"\")\n",
    "\n",
    "Matches_df = pd.DataFrame(c.fetchall())\n",
    "Matches_df.columns = [i[0] for i in c.description]\n",
    "Matches_df.head()\n",
    "Matches_df.shape"
   ]
  },
  {
   "cell_type": "code",
   "execution_count": null,
   "metadata": {},
   "outputs": [],
   "source": [
    "Matches_df.drop_duplicates(subset='Match_ID',inplace = True)   #no duplicate Match_IDs"
   ]
  },
  {
   "cell_type": "markdown",
   "metadata": {},
   "source": [
    "To subset HomeTeams as German teams:\n",
    "This is relevant to the last question where we get the weather information for only Germany."
   ]
  },
  {
   "cell_type": "code",
   "execution_count": null,
   "metadata": {},
   "outputs": [],
   "source": [
    "germanteams_df = pd.read_sql_query('''SELECT * \n",
    "                                      FROM FlatView_Advanced''', conn)"
   ]
  },
  {
   "cell_type": "code",
   "execution_count": null,
   "metadata": {},
   "outputs": [],
   "source": [
    "teams_df= pd.DataFrame(germanteams_df.Unique_Team.unique())\n",
    "teams_df.columns = ['team']\n",
    "teams_df.head()"
   ]
  },
  {
   "cell_type": "markdown",
   "metadata": {},
   "source": [
    "### The total number of goals scored by the team during the 2011 season. "
   ]
  },
  {
   "cell_type": "code",
   "execution_count": null,
   "metadata": {},
   "outputs": [],
   "source": [
    "q = \"\"\"\n",
    "       SELECT * \n",
    "       FROM Matches_df m\n",
    "       INNER JOIN teams_df t\n",
    "       ON m.HomeTeam= t.team\n",
    "       WHERE Season =2011;\n",
    "       \"\"\"\n",
    "Matches2011_df = pysqldf(q)\n",
    "Matches2011_df.shape"
   ]
  },
  {
   "cell_type": "code",
   "execution_count": null,
   "metadata": {},
   "outputs": [],
   "source": [
    "q = \"\"\"\n",
    "       SELECT HomeTeam, sum(FTHG) \n",
    "       FROM Matches2011_df \n",
    "       GROUP BY HomeTeam;\n",
    "       \"\"\"\n",
    "\n",
    "HomeTeam_results = pysqldf(q)\n",
    "HomeTeam_results.head()"
   ]
  },
  {
   "cell_type": "code",
   "execution_count": null,
   "metadata": {},
   "outputs": [],
   "source": [
    "q = \"\"\"\n",
    "       SELECT AwayTeam, sum(FTAG) \n",
    "       FROM Matches2011_df \n",
    "       GROUP BY AwayTeam;\n",
    "       \"\"\"\n",
    "AwayTeam_results = pysqldf(q)\n",
    "AwayTeam_results.head()"
   ]
  },
  {
   "cell_type": "code",
   "execution_count": null,
   "metadata": {},
   "outputs": [],
   "source": [
    "total_goals_df = pd.merge(HomeTeam_results, AwayTeam_results, left_on='HomeTeam', right_on='AwayTeam')\n",
    "total_goals_df.head()"
   ]
  },
  {
   "cell_type": "code",
   "execution_count": null,
   "metadata": {},
   "outputs": [],
   "source": [
    "q = \"\"\"select HomeTeam as Team, \"sum(FTAG)\"+\"sum(FTHG)\" as totalgoals from total_goals_df\"\"\"\n",
    "totalgoals = pysqldf(q)\n",
    "totalgoals.head()"
   ]
  },
  {
   "cell_type": "code",
   "execution_count": null,
   "metadata": {},
   "outputs": [],
   "source": [
    "def teamtotalgoals(team):\n",
    "    return totalgoals.loc[totalgoals['Team']==team]"
   ]
  },
  {
   "cell_type": "code",
   "execution_count": null,
   "metadata": {},
   "outputs": [],
   "source": [
    "team = 'Aachen'\n",
    "teamtotalgoals(team)"
   ]
  },
  {
   "cell_type": "markdown",
   "metadata": {},
   "source": [
    "### A histogram visualization of the team's wins and losses for the 2011 season"
   ]
  },
  {
   "cell_type": "code",
   "execution_count": null,
   "metadata": {},
   "outputs": [],
   "source": [
    "def wins_loses(df, team):\n",
    "    wins = 0\n",
    "    loses = 0\n",
    "    for i , row in df.iterrows():\n",
    "        if team == row['HomeTeam']:\n",
    "            if row['FTR'] == 'H':\n",
    "                wins += 1\n",
    "            if row['FTR'] == 'A':\n",
    "                loses += 1\n",
    "        if team == row['AwayTeam']:\n",
    "            if row['FTR'] == 'A':\n",
    "                wins += 1\n",
    "            if row['FTR'] == 'H':\n",
    "                loses += 1\n",
    "                \n",
    "    return (wins, loses)\n",
    "          "
   ]
  },
  {
   "cell_type": "code",
   "execution_count": null,
   "metadata": {},
   "outputs": [],
   "source": [
    "team = 'Nurnberg'\n",
    "wins_loses(Matches2011_df, team)"
   ]
  },
  {
   "cell_type": "code",
   "execution_count": null,
   "metadata": {},
   "outputs": [],
   "source": [
    "def bar(df, team):\n",
    "    \n",
    "    win_num, lose_num = wins_loses(df, team)\n",
    "    \n",
    "    return plt.bar(['win','loss'],[win_num, lose_num])"
   ]
  },
  {
   "cell_type": "code",
   "execution_count": null,
   "metadata": {},
   "outputs": [],
   "source": [
    "team = 'Nurnberg'\n",
    "bar(Matches2011_df, team)"
   ]
  },
  {
   "cell_type": "markdown",
   "metadata": {},
   "source": [
    "### The total number of wins the team earned during the 2011 season"
   ]
  },
  {
   "cell_type": "code",
   "execution_count": null,
   "metadata": {},
   "outputs": [],
   "source": [
    "def win_team(record):\n",
    "    \"\"\" if FTHG > FTAG then return 'HomeTeam' name; else, return 'AwayTeam' name.\"\"\"\n",
    "    if record['FTHG'] > record['FTAG']:\n",
    "        return record['HomeTeam']\n",
    "    elif record['FTHG'] < record['FTAG']:\n",
    "        return record['AwayTeam']"
   ]
  },
  {
   "cell_type": "code",
   "execution_count": null,
   "metadata": {},
   "outputs": [],
   "source": [
    "Matches2011_df['Winner'] = Matches2011_df.apply(win_team, axis=1)\n",
    "Matches2011_df.head()"
   ]
  },
  {
   "cell_type": "code",
   "execution_count": null,
   "metadata": {},
   "outputs": [],
   "source": [
    "def numberofteamwins(team):\n",
    "    return Matches2011_df['Winner'].value_counts()[team]"
   ]
  },
  {
   "cell_type": "code",
   "execution_count": null,
   "metadata": {},
   "outputs": [],
   "source": [
    "team= 'Bayern Munich'\n",
    "numberofteamwins(team)"
   ]
  },
  {
   "cell_type": "markdown",
   "metadata": {},
   "source": [
    "The team's win percentage on days where it was raining during games in the 2011 season."
   ]
  },
  {
   "cell_type": "code",
   "execution_count": null,
   "metadata": {},
   "outputs": [],
   "source": [
    "import json\n",
    "def get_key(path):\n",
    "    with open(path) as f:\n",
    "        return json.load(f)\n",
    "\n",
    "key = get_key(\"/Users/flatironschool/.secret/drysky.json\")\n",
    "api_key = key['api_key']"
   ]
  },
  {
   "cell_type": "code",
   "execution_count": null,
   "metadata": {},
   "outputs": [],
   "source": [
    "list_of_dates = (pd.to_datetime(Matches2011_df['Date']) - pd.Timestamp(\"1970-01-01\")) // pd.Timedelta('1s')\n",
    "game_dates = list(set(list_of_dates))\n",
    "latitude = 52.52\n",
    "longtitude = 13.4050\n",
    "\n",
    "def get_weather(game_dates):\n",
    "    alldates = []\n",
    "    for date in game_dates:\n",
    "        url = f'''https://api.darksky.net/forecast/{api_key}/{latitude},{longtitude},{date}'''\n",
    "        response = requests.get(url)\n",
    "        alldates.append(response.json())\n",
    "    return alldates"
   ]
  },
  {
   "cell_type": "code",
   "execution_count": null,
   "metadata": {},
   "outputs": [],
   "source": [
    "allweather = get_weather(game_dates)\n",
    "allweather"
   ]
  },
  {
   "cell_type": "code",
   "execution_count": null,
   "metadata": {},
   "outputs": [],
   "source": [
    "def rainydays(allweather):\n",
    "    rainydays_time=[]\n",
    "    for i in allweather:\n",
    "        if i['currently']['icon']=='rain':\n",
    "            rainydays_time.append(i['currently']['time'])\n",
    "    return rainydays_time\n",
    "\n",
    "rain_dates= rainydays(allweather)"
   ]
  },
  {
   "cell_type": "code",
   "execution_count": null,
   "metadata": {},
   "outputs": [],
   "source": [
    "rain_dates_df = pd.DataFrame(rain_dates, columns = ['Timestamp_Date'])\n",
    "rain_dates_df.head()"
   ]
  },
  {
   "cell_type": "code",
   "execution_count": null,
   "metadata": {},
   "outputs": [],
   "source": [
    "listofdates = (pd.to_datetime(Matches2011_df['Date']) - pd.Timestamp(\"1970-01-01\")) // pd.Timedelta('1s')\n",
    "Matches2011_df['Timestamp_AllDates'] = list_of_dates\n",
    "Matches2011_df.head()"
   ]
  },
  {
   "cell_type": "code",
   "execution_count": null,
   "metadata": {},
   "outputs": [],
   "source": [
    "listofdates = (pd.to_datetime(Matches2011_df['Date']) - pd.Timestamp(\"1970-01-01\")) // pd.Timedelta('1s')\n",
    "listofdates = list(listofdates)\n",
    "all_dates_df = pd.DataFrame(listofdates, columns= ['Timestamp_AllDates'])\n",
    "all_dates_df.head()"
   ]
  },
  {
   "cell_type": "code",
   "execution_count": null,
   "metadata": {},
   "outputs": [],
   "source": [
    "merged=Matches2011_df.merge(rain_dates_df, left_on='Timestamp_AllDates', right_on='Timestamp_Date')\n",
    "merged.head()"
   ]
  },
  {
   "cell_type": "code",
   "execution_count": null,
   "metadata": {},
   "outputs": [],
   "source": [
    "def winpercentage(team):\n",
    "    totalAwayTeam= 0\n",
    "    totalHomeTeam =0\n",
    "    totalgames = 0\n",
    "    if merged.loc[merged['Winner'] == team].shape[0]!=0:\n",
    "        totalwins = merged['Winner'].value_counts()[team]\n",
    "        \n",
    "    if merged.loc[merged['HomeTeam'] == team].shape[0]!=0:\n",
    "        totalHomeTeam = merged['HomeTeam'].value_counts()[team]\n",
    "        \n",
    "    if merged.loc[merged['AwayTeam'] == team].shape[0]!=0:\n",
    "        totalAwayTeam= merged['AwayTeam'].value_counts()[team]\n",
    "        \n",
    "    totalgames= totalHomeTeam+totalAwayTeam\n",
    "    percentagewin= totalwins*100/totalgames\n",
    "    return percentagewin"
   ]
  },
  {
   "cell_type": "code",
   "execution_count": null,
   "metadata": {},
   "outputs": [],
   "source": [
    "team = 'Paderborn'\n",
    "winpercentage(team)"
   ]
  }
 ],
 "metadata": {
  "kernelspec": {
   "display_name": "Python 3",
   "language": "python",
   "name": "python3"
  },
  "language_info": {
   "codemirror_mode": {
    "name": "ipython",
    "version": 3
   },
   "file_extension": ".py",
   "mimetype": "text/x-python",
   "name": "python",
   "nbconvert_exporter": "python",
   "pygments_lexer": "ipython3",
   "version": "3.7.3"
  }
 },
 "nbformat": 4,
 "nbformat_minor": 2
}
